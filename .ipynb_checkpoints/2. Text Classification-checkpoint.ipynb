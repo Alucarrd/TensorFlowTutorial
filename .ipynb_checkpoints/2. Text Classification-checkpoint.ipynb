{
 "cells": [
  {
   "cell_type": "markdown",
   "metadata": {},
   "source": [
    "https://www.tensorflow.org/tutorials/keras/basic_text_classification\n",
    "\n",
    "This notebook classifies movie reviews as positive or negative using the text of the review. This is an example of binary—or two-class—classification, an important and widely applicable kind of machine learning problem."
   ]
  },
  {
   "cell_type": "code",
   "execution_count": 2,
   "metadata": {},
   "outputs": [
    {
     "name": "stdout",
     "output_type": "stream",
     "text": [
      "1.8.0\n"
     ]
    }
   ],
   "source": [
    "import tensorflow as tf\n",
    "from tensorflow import keras\n",
    "\n",
    "import numpy as np\n",
    "\n",
    "print(tf.__version__)"
   ]
  },
  {
   "cell_type": "markdown",
   "metadata": {},
   "source": [
    "Download the IMDB dataset\n",
    "\n",
    "The IMDB dataset comes packaged with TensorFlow. It has already been preprocessed such that the reviews (sequences of words) have been converted to sequences of integers, where each integer represents a specific word in a dictionary.\n",
    "\n",
    "The following code downloads the IMDB dataset to your machine (or uses a cached copy if you've already downloaded it):"
   ]
  },
  {
   "cell_type": "code",
   "execution_count": 9,
   "metadata": {},
   "outputs": [],
   "source": [
    "imdb = keras.datasets.imdb\n",
    "\n",
    "(train_data, train_labels), (test_data, test_labels) = imdb.load_data(num_words=10000)"
   ]
  },
  {
   "cell_type": "markdown",
   "metadata": {},
   "source": [
    "Explore the data\n",
    "\n",
    "Let's take a moment to understand the format of the data. The dataset comes preprocessed: each example is an array of integers representing the words of the movie review. Each label is an integer value of either 0 or 1, where 0 is a negative review, and 1 is a positive review."
   ]
  },
  {
   "cell_type": "code",
   "execution_count": 10,
   "metadata": {},
   "outputs": [
    {
     "name": "stdout",
     "output_type": "stream",
     "text": [
      "Training entries: 25000, labels: 25000\n"
     ]
    }
   ],
   "source": [
    "print(\"Training entries: {}, labels: {}\".format(len(train_data), len(train_labels)))"
   ]
  },
  {
   "cell_type": "markdown",
   "metadata": {},
   "source": [
    "The text of reviews have been converted to integers, where each integer represents a specific word in a dictionary. Here's what the first review looks like:"
   ]
  },
  {
   "cell_type": "code",
   "execution_count": 11,
   "metadata": {},
   "outputs": [
    {
     "name": "stdout",
     "output_type": "stream",
     "text": [
      "[1, 14, 22, 16, 43, 530, 973, 1622, 1385, 65, 458, 4468, 66, 3941, 4, 173, 36, 256, 5, 25, 100, 43, 838, 112, 50, 670, 2, 9, 35, 480, 284, 5, 150, 4, 172, 112, 167, 2, 336, 385, 39, 4, 172, 4536, 1111, 17, 546, 38, 13, 447, 4, 192, 50, 16, 6, 147, 2025, 19, 14, 22, 4, 1920, 4613, 469, 4, 22, 71, 87, 12, 16, 43, 530, 38, 76, 15, 13, 1247, 4, 22, 17, 515, 17, 12, 16, 626, 18, 2, 5, 62, 386, 12, 8, 316, 8, 106, 5, 4, 2223, 5244, 16, 480, 66, 3785, 33, 4, 130, 12, 16, 38, 619, 5, 25, 124, 51, 36, 135, 48, 25, 1415, 33, 6, 22, 12, 215, 28, 77, 52, 5, 14, 407, 16, 82, 2, 8, 4, 107, 117, 5952, 15, 256, 4, 2, 7, 3766, 5, 723, 36, 71, 43, 530, 476, 26, 400, 317, 46, 7, 4, 2, 1029, 13, 104, 88, 4, 381, 15, 297, 98, 32, 2071, 56, 26, 141, 6, 194, 7486, 18, 4, 226, 22, 21, 134, 476, 26, 480, 5, 144, 30, 5535, 18, 51, 36, 28, 224, 92, 25, 104, 4, 226, 65, 16, 38, 1334, 88, 12, 16, 283, 5, 16, 4472, 113, 103, 32, 15, 16, 5345, 19, 178, 32]\n"
     ]
    }
   ],
   "source": [
    "print(train_data[0])"
   ]
  },
  {
   "cell_type": "markdown",
   "metadata": {},
   "source": [
    "Movie reviews may be different lengths. The below code shows the number of words in the first and second reviews. Since inputs to a neural network must be the same length, we'll need to resolve this later."
   ]
  },
  {
   "cell_type": "code",
   "execution_count": 12,
   "metadata": {},
   "outputs": [
    {
     "data": {
      "text/plain": [
       "(218, 189)"
      ]
     },
     "execution_count": 12,
     "metadata": {},
     "output_type": "execute_result"
    }
   ],
   "source": [
    "len(train_data[0]), len(train_data[1])"
   ]
  },
  {
   "cell_type": "markdown",
   "metadata": {},
   "source": [
    "Convert the integers back to words\n",
    "\n",
    "It may be useful to know how to convert integers back to text. Here, we'll create a helper function to query a dictionary object that contains the integer to string mapping:"
   ]
  },
  {
   "cell_type": "code",
   "execution_count": 15,
   "metadata": {},
   "outputs": [],
   "source": [
    "# A dictionary mapping words to an integer index\n",
    "word_index = imdb.get_word_index()\n",
    "# The first indices are reserved\n",
    "word_index = {k:(v+3) for k,v in word_index.items()}\n",
    "word_index[\"<PAD>\"] = 0\n",
    "word_index[\"<START>\"] = 1\n",
    "word_index[\"<UNK>\"] = 2  # unknown\n",
    "word_index[\"<UNUSED>\"] = 3\n",
    "\n",
    "reverse_word_index = dict([(value, key) for (key, value) in word_index.items()])\n",
    "\n",
    "def decode_review(text):\n",
    "    return ' '.join([reverse_word_index.get(i, '?') for i in text])\n",
    "\n",
    "    \n"
   ]
  },
  {
   "cell_type": "code",
   "execution_count": 16,
   "metadata": {},
   "outputs": [
    {
     "data": {
      "text/plain": [
       "\"<START> this film was just brilliant casting location scenery story direction everyone's really suited the part they played and you could just imagine being there robert <UNK> is an amazing actor and now the same being director <UNK> father came from the same scottish island as myself so i loved the fact there was a real connection with this film the witty remarks throughout the film were great it was just brilliant so much that i bought the film as soon as it was released for <UNK> and would recommend it to everyone to watch and the fly fishing was amazing really cried at the end it was so sad and you know what they say if you cry at a film it must have been good and this definitely was also <UNK> to the two little boy's that played the <UNK> of norman and paul they were just brilliant children are often left out of the <UNK> list i think because the stars that play them all grown up are such a big profile for the whole film but these children are amazing and should be praised for what they have done don't you think the whole story was so lovely because it was true and was someone's life after all that was shared with us all\""
      ]
     },
     "execution_count": 16,
     "metadata": {},
     "output_type": "execute_result"
    }
   ],
   "source": [
    "decode_review(train_data[0])"
   ]
  },
  {
   "cell_type": "markdown",
   "metadata": {},
   "source": [
    "The reviews—the arrays of integers—must be converted to tensors before fed into the neural network. This conversion can be done a couple of ways:\n",
    "\n",
    "One-hot-encode the arrays to convert them into vectors of 0s and 1s. For example, the sequence [3, 5] would become a 10,000-dimensional vector that is all zeros except for indices 3 and 5, which are ones. Then, make this the first layer in our network—a Dense layer—that can handle floating point vector data. This approach is memory intensive, though, requiring a num_words * num_reviews size matrix.\n",
    "\n",
    "Alternatively, we can pad the arrays so they all have the same length, then create an integer tensor of shape max_length * num_reviews. We can use an embedding layer capable of handling this shape as the first layer in our network.\n",
    "\n",
    "In this tutorial, we will use the second approach.\n",
    "\n",
    "Since the movie reviews must be the same length, we will use the pad_sequences function to standardize the lengths:"
   ]
  },
  {
   "cell_type": "code",
   "execution_count": 17,
   "metadata": {},
   "outputs": [],
   "source": [
    "train_data = keras.preprocessing.sequence.pad_sequences(train_data,\n",
    "                                                       value=word_index[\"<PAD>\"],\n",
    "                                                       padding='post',\n",
    "                                                       maxlen=256)\n",
    "\n",
    "test_data = keras.preprocessing.sequence.pad_sequences(test_data,\n",
    "                                                       value=word_index[\"<PAD>\"],\n",
    "                                                       padding='post',\n",
    "                                                       maxlen=256)"
   ]
  },
  {
   "cell_type": "code",
   "execution_count": 18,
   "metadata": {},
   "outputs": [
    {
     "data": {
      "text/plain": [
       "(256, 256)"
      ]
     },
     "execution_count": 18,
     "metadata": {},
     "output_type": "execute_result"
    }
   ],
   "source": [
    "len(train_data[0]), len(train_data[1])"
   ]
  },
  {
   "cell_type": "code",
   "execution_count": 19,
   "metadata": {},
   "outputs": [
    {
     "name": "stdout",
     "output_type": "stream",
     "text": [
      "[   1   14   22   16   43  530  973 1622 1385   65  458 4468   66 3941\n",
      "    4  173   36  256    5   25  100   43  838  112   50  670    2    9\n",
      "   35  480  284    5  150    4  172  112  167    2  336  385   39    4\n",
      "  172 4536 1111   17  546   38   13  447    4  192   50   16    6  147\n",
      " 2025   19   14   22    4 1920 4613  469    4   22   71   87   12   16\n",
      "   43  530   38   76   15   13 1247    4   22   17  515   17   12   16\n",
      "  626   18    2    5   62  386   12    8  316    8  106    5    4 2223\n",
      " 5244   16  480   66 3785   33    4  130   12   16   38  619    5   25\n",
      "  124   51   36  135   48   25 1415   33    6   22   12  215   28   77\n",
      "   52    5   14  407   16   82    2    8    4  107  117 5952   15  256\n",
      "    4    2    7 3766    5  723   36   71   43  530  476   26  400  317\n",
      "   46    7    4    2 1029   13  104   88    4  381   15  297   98   32\n",
      " 2071   56   26  141    6  194 7486   18    4  226   22   21  134  476\n",
      "   26  480    5  144   30 5535   18   51   36   28  224   92   25  104\n",
      "    4  226   65   16   38 1334   88   12   16  283    5   16 4472  113\n",
      "  103   32   15   16 5345   19  178   32    0    0    0    0    0    0\n",
      "    0    0    0    0    0    0    0    0    0    0    0    0    0    0\n",
      "    0    0    0    0    0    0    0    0    0    0    0    0    0    0\n",
      "    0    0    0    0]\n"
     ]
    }
   ],
   "source": [
    "print(train_data[0])"
   ]
  },
  {
   "cell_type": "markdown",
   "metadata": {},
   "source": [
    "The neural network is created by stacking layers—this requires two main architectural decisions:\n",
    "\n",
    "How many layers to use in the model?\n",
    "How many hidden units to use for each layer?\n",
    "In this example, the input data consists of an array of word-indices. The labels to predict are either 0 or 1. Let's build a model for this problem:"
   ]
  },
  {
   "cell_type": "code",
   "execution_count": 20,
   "metadata": {},
   "outputs": [
    {
     "name": "stdout",
     "output_type": "stream",
     "text": [
      "_________________________________________________________________\n",
      "Layer (type)                 Output Shape              Param #   \n",
      "=================================================================\n",
      "embedding_1 (Embedding)      (None, None, 16)          160000    \n",
      "_________________________________________________________________\n",
      "global_average_pooling1d_1 ( (None, 16)                0         \n",
      "_________________________________________________________________\n",
      "dense_1 (Dense)              (None, 16)                272       \n",
      "_________________________________________________________________\n",
      "dense_2 (Dense)              (None, 1)                 17        \n",
      "=================================================================\n",
      "Total params: 160,289\n",
      "Trainable params: 160,289\n",
      "Non-trainable params: 0\n",
      "_________________________________________________________________\n"
     ]
    }
   ],
   "source": [
    "# input shape is the vocabulary count used for the movie reviews (10,000 words)\n",
    "vocab_size = 10000\n",
    "\n",
    "model = keras.Sequential()\n",
    "model.add(keras.layers.Embedding(vocab_size, 16))\n",
    "model.add(keras.layers.GlobalAveragePooling1D())\n",
    "model.add(keras.layers.Dense(16, activation=tf.nn.relu))\n",
    "model.add(keras.layers.Dense(1, activation=tf.nn.sigmoid))\n",
    "\n",
    "model.summary()"
   ]
  },
  {
   "cell_type": "markdown",
   "metadata": {},
   "source": [
    "The layers are stacked sequentially to build the classifier:\n",
    "\n",
    "The first layer is an Embedding layer. This layer takes the integer-encoded vocabulary and looks up the embedding vector for each word-index. These vectors are learned as the model trains. The vectors add a dimension to the output array. The resulting dimensions are: (batch, sequence, embedding).\n",
    "\n",
    "Next, a GlobalAveragePooling1D layer returns a fixed-length output vector for each example by averaging over the sequence dimension. This allows the model can handle input of variable length, in the simplest way possible.\n",
    "\n",
    "This fixed-length output vector is piped through a fully-connected (Dense) layer with 16 hidden units.\n",
    "The last layer is densely connected with a single output node. Using the sigmoid activation function, this value is a float between 0 and 1, representing a probability, or confidence level.\n",
    "\n",
    "Hidden units\n",
    "\n",
    "The above model has two intermediate or \"hidden\" layers, between the input and output. The number of outputs (units, nodes, or neurons) is the dimension of the representational space for the layer. In other words, the amount of freedom the network is allowed when learning an internal representation.\n",
    "\n",
    "If a model has more hidden units (a higher-dimensional representation space), and/or more layers, then the network can learn more complex representations. However, it makes the network more computationally expensive and may lead to learning unwanted patterns—patterns that improve performance on training data but not on the test data. This is called overfitting, and we'll explore it later.\n",
    "\n",
    "Loss function and optimizer\n",
    "\n",
    "A model needs a loss function and an optimizer for training. Since this is a binary classification problem and the model outputs of a probability (a single-unit layer with a sigmoid activation), we'll use the binary_crossentropy loss function.\n",
    "\n",
    "This isn't the only choice for a loss function, you could, for instance, choose mean_squared_error. But, generally, binary_crossentropy is better for dealing with probabilities—it measures the \"distance\" between probability distributions, or in our case, between the ground-truth distribution and the predictions.\n",
    "\n",
    "Later, when we are exploring regression problems (say, to predict the price of a house), we will see how to use another loss function called mean squared error.\n",
    "\n",
    "Now, configure the model to use an optimizer and a loss function:"
   ]
  },
  {
   "cell_type": "code",
   "execution_count": 23,
   "metadata": {},
   "outputs": [],
   "source": [
    "model.compile(optimizer=tf.train.AdamOptimizer(),\n",
    "              loss='binary_crossentropy',\n",
    "              metrics=['accuracy'])"
   ]
  },
  {
   "cell_type": "markdown",
   "metadata": {},
   "source": [
    "Create a validation set\n",
    "\n",
    "When training, we want to check the accuracy of the model on data it hasn't seen before. Create a validation set by setting apart 10,000 examples from the original training data. (Why not use the testing set now? Our goal is to develop and tune our model using only the training data, then use the test data just once to evaluate our accuracy)."
   ]
  },
  {
   "cell_type": "code",
   "execution_count": 24,
   "metadata": {},
   "outputs": [],
   "source": [
    "x_val = train_data[:10000]\n",
    "partial_x_train = train_data[10000:]\n",
    "y_val = train_labels[:10000]\n",
    "partial_y_train = train_labels[10000:]"
   ]
  },
  {
   "cell_type": "markdown",
   "metadata": {},
   "source": [
    "Train the model\n",
    "\n",
    "Train the model for 40 epochs in mini-batches of 512 samples. This is 40 iterations over all samples in the x_train and y_train tensors. While training, monitor the model's loss and accuracy on the 10,000 samples from the validation set:"
   ]
  },
  {
   "cell_type": "markdown",
   "metadata": {},
   "source": [
    "Train the model\n",
    "\n",
    "Train the model for 40 epochs in mini-batches of 512 samples. This is 40 iterations over all samples in the x_train and y_train tensors. While training, monitor the model's loss and accuracy on the 10,000 samples from the validation set:"
   ]
  },
  {
   "cell_type": "code",
   "execution_count": 25,
   "metadata": {
    "scrolled": true
   },
   "outputs": [
    {
     "name": "stdout",
     "output_type": "stream",
     "text": [
      "Train on 15000 samples, validate on 10000 samples\n",
      "Epoch 1/40\n",
      "15000/15000 [==============================] - 1s 66us/step - loss: 0.7025 - acc: 0.5023 - val_loss: 0.6916 - val_acc: 0.5302\n",
      "Epoch 2/40\n",
      "15000/15000 [==============================] - 1s 51us/step - loss: 0.6905 - acc: 0.5246 - val_loss: 0.6896 - val_acc: 0.5814\n",
      "Epoch 3/40\n",
      "15000/15000 [==============================] - 1s 51us/step - loss: 0.6882 - acc: 0.6287 - val_loss: 0.6874 - val_acc: 0.6091\n",
      "Epoch 4/40\n",
      "15000/15000 [==============================] - 1s 52us/step - loss: 0.6856 - acc: 0.6602 - val_loss: 0.6849 - val_acc: 0.6408\n",
      "Epoch 5/40\n",
      "15000/15000 [==============================] - 1s 52us/step - loss: 0.6824 - acc: 0.6520 - val_loss: 0.6816 - val_acc: 0.7057\n",
      "Epoch 6/40\n",
      "15000/15000 [==============================] - 1s 50us/step - loss: 0.6784 - acc: 0.7293 - val_loss: 0.6774 - val_acc: 0.7324\n",
      "Epoch 7/40\n",
      "15000/15000 [==============================] - 1s 51us/step - loss: 0.6729 - acc: 0.7475 - val_loss: 0.6715 - val_acc: 0.7363\n",
      "Epoch 8/40\n",
      "15000/15000 [==============================] - 1s 52us/step - loss: 0.6650 - acc: 0.7623 - val_loss: 0.6633 - val_acc: 0.7506\n",
      "Epoch 9/40\n",
      "15000/15000 [==============================] - 1s 53us/step - loss: 0.6543 - acc: 0.7780 - val_loss: 0.6517 - val_acc: 0.7620\n",
      "Epoch 10/40\n",
      "15000/15000 [==============================] - 1s 50us/step - loss: 0.6397 - acc: 0.7868 - val_loss: 0.6362 - val_acc: 0.7669\n",
      "Epoch 11/40\n",
      "15000/15000 [==============================] - 1s 50us/step - loss: 0.6212 - acc: 0.7775 - val_loss: 0.6174 - val_acc: 0.7720\n",
      "Epoch 12/40\n",
      "15000/15000 [==============================] - 1s 52us/step - loss: 0.5969 - acc: 0.7913 - val_loss: 0.5923 - val_acc: 0.7782\n",
      "Epoch 13/40\n",
      "15000/15000 [==============================] - 1s 51us/step - loss: 0.5673 - acc: 0.8039 - val_loss: 0.5649 - val_acc: 0.7892\n",
      "Epoch 14/40\n",
      "15000/15000 [==============================] - 1s 52us/step - loss: 0.5355 - acc: 0.8156 - val_loss: 0.5353 - val_acc: 0.8008\n",
      "Epoch 15/40\n",
      "15000/15000 [==============================] - 1s 53us/step - loss: 0.5026 - acc: 0.8262 - val_loss: 0.5056 - val_acc: 0.8086\n",
      "Epoch 16/40\n",
      "15000/15000 [==============================] - 1s 51us/step - loss: 0.4713 - acc: 0.8345 - val_loss: 0.4782 - val_acc: 0.8216\n",
      "Epoch 17/40\n",
      "15000/15000 [==============================] - 1s 50us/step - loss: 0.4408 - acc: 0.8495 - val_loss: 0.4531 - val_acc: 0.8303\n",
      "Epoch 18/40\n",
      "15000/15000 [==============================] - 1s 52us/step - loss: 0.4134 - acc: 0.8595 - val_loss: 0.4299 - val_acc: 0.8387\n",
      "Epoch 19/40\n",
      "15000/15000 [==============================] - 1s 51us/step - loss: 0.3885 - acc: 0.8678 - val_loss: 0.4093 - val_acc: 0.8457\n",
      "Epoch 20/40\n",
      "15000/15000 [==============================] - 1s 53us/step - loss: 0.3659 - acc: 0.8753 - val_loss: 0.3914 - val_acc: 0.8504\n",
      "Epoch 21/40\n",
      "15000/15000 [==============================] - 1s 51us/step - loss: 0.3459 - acc: 0.8815 - val_loss: 0.3761 - val_acc: 0.8561\n",
      "Epoch 22/40\n",
      "15000/15000 [==============================] - 1s 52us/step - loss: 0.3283 - acc: 0.8873 - val_loss: 0.3632 - val_acc: 0.8614\n",
      "Epoch 23/40\n",
      "15000/15000 [==============================] - 1s 51us/step - loss: 0.3133 - acc: 0.8917 - val_loss: 0.3527 - val_acc: 0.8635\n",
      "Epoch 24/40\n",
      "15000/15000 [==============================] - 1s 51us/step - loss: 0.2994 - acc: 0.8952 - val_loss: 0.3432 - val_acc: 0.8664\n",
      "Epoch 25/40\n",
      "15000/15000 [==============================] - 1s 52us/step - loss: 0.2874 - acc: 0.8988 - val_loss: 0.3353 - val_acc: 0.8690\n",
      "Epoch 26/40\n",
      "15000/15000 [==============================] - 1s 50us/step - loss: 0.2764 - acc: 0.9028 - val_loss: 0.3290 - val_acc: 0.8710\n",
      "Epoch 27/40\n",
      "15000/15000 [==============================] - 1s 50us/step - loss: 0.2668 - acc: 0.9035 - val_loss: 0.3230 - val_acc: 0.8728\n",
      "Epoch 28/40\n",
      "15000/15000 [==============================] - 1s 51us/step - loss: 0.2573 - acc: 0.9081 - val_loss: 0.3175 - val_acc: 0.8752\n",
      "Epoch 29/40\n",
      "15000/15000 [==============================] - 1s 50us/step - loss: 0.2491 - acc: 0.9103 - val_loss: 0.3137 - val_acc: 0.8758\n",
      "Epoch 30/40\n",
      "15000/15000 [==============================] - 1s 51us/step - loss: 0.2421 - acc: 0.9134 - val_loss: 0.3094 - val_acc: 0.8768\n",
      "Epoch 31/40\n",
      "15000/15000 [==============================] - 1s 53us/step - loss: 0.2340 - acc: 0.9167 - val_loss: 0.3064 - val_acc: 0.8780\n",
      "Epoch 32/40\n",
      "15000/15000 [==============================] - 1s 54us/step - loss: 0.2279 - acc: 0.9186 - val_loss: 0.3034 - val_acc: 0.8798\n",
      "Epoch 33/40\n",
      "15000/15000 [==============================] - 1s 52us/step - loss: 0.2205 - acc: 0.9211 - val_loss: 0.3007 - val_acc: 0.8807\n",
      "Epoch 34/40\n",
      "15000/15000 [==============================] - 1s 49us/step - loss: 0.2146 - acc: 0.9236 - val_loss: 0.2989 - val_acc: 0.8804\n",
      "Epoch 35/40\n",
      "15000/15000 [==============================] - 1s 51us/step - loss: 0.2092 - acc: 0.9232 - val_loss: 0.2965 - val_acc: 0.8818\n",
      "Epoch 36/40\n",
      "15000/15000 [==============================] - 1s 49us/step - loss: 0.2031 - acc: 0.9281 - val_loss: 0.2949 - val_acc: 0.8831\n",
      "Epoch 37/40\n",
      "15000/15000 [==============================] - 1s 50us/step - loss: 0.1979 - acc: 0.9302 - val_loss: 0.2935 - val_acc: 0.8835\n",
      "Epoch 38/40\n",
      "15000/15000 [==============================] - 1s 50us/step - loss: 0.1930 - acc: 0.9314 - val_loss: 0.2923 - val_acc: 0.8833\n",
      "Epoch 39/40\n",
      "15000/15000 [==============================] - 1s 51us/step - loss: 0.1877 - acc: 0.9339 - val_loss: 0.2909 - val_acc: 0.8836\n",
      "Epoch 40/40\n",
      "15000/15000 [==============================] - 1s 51us/step - loss: 0.1831 - acc: 0.9360 - val_loss: 0.2900 - val_acc: 0.8836\n"
     ]
    }
   ],
   "source": [
    "history = model.fit(partial_x_train,\n",
    "                   partial_y_train,\n",
    "                   epochs=40,\n",
    "                   batch_size=512,\n",
    "                   validation_data=(x_val, y_val),\n",
    "                   verbose=1)"
   ]
  },
  {
   "cell_type": "markdown",
   "metadata": {},
   "source": [
    "Evaluate the model\n",
    "\n",
    "And let's see how the model performs. Two values will be returned. Loss (a number which represents our error, lower values are better), and accuracy."
   ]
  },
  {
   "cell_type": "code",
   "execution_count": 26,
   "metadata": {},
   "outputs": [
    {
     "name": "stdout",
     "output_type": "stream",
     "text": [
      "25000/25000 [==============================] - 0s 19us/step\n",
      "[0.3039901829910278, 0.87528]\n"
     ]
    }
   ],
   "source": [
    "results=model.evaluate(test_data, test_labels)\n",
    "print(results)"
   ]
  },
  {
   "cell_type": "markdown",
   "metadata": {},
   "source": [
    "Create a graph of accuracy and loss over time\n",
    "\n",
    "model.fit() returns a History object that contains a dictionary with everything that happened during training:\n",
    "\n"
   ]
  },
  {
   "cell_type": "code",
   "execution_count": 27,
   "metadata": {},
   "outputs": [
    {
     "data": {
      "text/plain": [
       "dict_keys(['val_loss', 'val_acc', 'acc', 'loss'])"
      ]
     },
     "execution_count": 27,
     "metadata": {},
     "output_type": "execute_result"
    }
   ],
   "source": [
    "history_dict = history.history\n",
    "history_dict.keys()"
   ]
  },
  {
   "cell_type": "markdown",
   "metadata": {},
   "source": [
    "There are four entries: one for each monitored metric during training and validation. We can use these to plot the training and validation loss for comparison, as well as the training and validation accuracy:"
   ]
  },
  {
   "cell_type": "code",
   "execution_count": 29,
   "metadata": {},
   "outputs": [
    {
     "data": {
      "image/png": "[encoded data removed]",
      "text/plain": [
       "<Figure size 432x288 with 1 Axes>"
      ]
     },
     "metadata": {},
     "output_type": "display_data"
    }
   ],
   "source": [
    "import matplotlib.pyplot as plt\n",
    "\n",
    "acc = history.history[\"acc\"]\n",
    "val_acc = history.history[\"val_acc\"]\n",
    "loss = history.history[\"loss\"]\n",
    "val_loss = history.history[\"val_loss\"]\n",
    "\n",
    "epochs = range(1, len(acc) + 1)\n",
    "# \"bo\" is for \"blue dot\"\n",
    "plt.plot(epochs, loss, \"bo\", label=\"Training Loss\")\n",
    "\n",
    "#b is for \"solid blue line\"\n",
    "plt.plot(epochs, val_loss, \"b\", label=\"Validation Loss\")\n",
    "plt.title(\"Training and Validation Loss\")\n",
    "plt.xlabel(\"Epochs\")\n",
    "plt.ylabel(\"Loss\")\n",
    "plt.legend()\n",
    "\n",
    "plt.show()\n",
    "\n",
    "\n",
    "\n"
   ]
  },
  {
   "cell_type": "code",
   "execution_count": 31,
   "metadata": {},
   "outputs": [
    {
     "data": {
      "image/png": "[encoded data removed]",
      "text/plain": [
       "<Figure size 432x288 with 1 Axes>"
      ]
     },
     "metadata": {},
     "output_type": "display_data"
    }
   ],
   "source": [
    "plt.clf() #clear figure\n",
    "acc_values = history.history[\"acc\"]\n",
    "val_acc_values = history.history[\"val_acc\"]\n",
    "\n",
    "plt.plot(epochs, acc, \"bo\", label =\"Training Acc\")\n",
    "plt.plot(epochs, val_acc, \"b\", label=\"Validation Acc\")\n",
    "plt.title(\"Training and Validation Accuracy\")\n",
    "plt.xlabel(\"Epochs\")\n",
    "plt.ylabel(\"Accuracy\")\n",
    "plt.legend()\n",
    "\n",
    "plt.show()\n"
   ]
  },
  {
   "cell_type": "markdown",
   "metadata": {},
   "source": [
    "In this plot, the dots represent the training loss and accuracy, and the solid lines are the validation loss and accuracy.\n",
    "\n",
    "Notice the training loss decreases with each epoch and the training accuracy increases with each epoch. This is expected when using a gradient descent optimization—it should minimize the desired quantity on every iteration.\n",
    "\n",
    "This isn't the case for the validation loss and accuracy—they seem to peak after about twenty epochs. This is an example of overfitting: the model performs better on the training data than it does on data it has never seen before. After this point, the model over-optimizes and learns representations specific to the training data that do not generalize to test data.\n",
    "\n",
    "For this particular case, we could prevent overfitting by simply stopping the training after twenty or so epochs. Later, you'll see how to do this automatically with a callback."
   ]
  },
  {
   "cell_type": "markdown",
   "metadata": {},
   "source": []
  },
  {
   "cell_type": "code",
   "execution_count": null,
   "metadata": {},
   "outputs": [],
   "source": []
  }
 ],
 "metadata": {
  "kernelspec": {
   "display_name": "Python 3",
   "language": "python",
   "name": "python3"
  },
  "language_info": {
   "codemirror_mode": {
    "name": "ipython",
    "version": 3
   },
   "file_extension": ".py",
   "mimetype": "text/x-python",
   "name": "python",
   "nbconvert_exporter": "python",
   "pygments_lexer": "ipython3",
   "version": "3.5.5"
  }
 },
 "nbformat": 4,
 "nbformat_minor": 2
}
